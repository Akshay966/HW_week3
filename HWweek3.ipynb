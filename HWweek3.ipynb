{
 "cells": [
  {
   "cell_type": "code",
   "execution_count": 1,
   "id": "68291b08",
   "metadata": {},
   "outputs": [
    {
     "name": "stdout",
     "output_type": "stream",
     "text": [
      "        LocID     Location  VarID      Variant  Time  MidPeriod    PopMale  \\\n",
      "0           4  Afghanistan      2       Medium  1950     1950.5   4099.243   \n",
      "1           4  Afghanistan      2       Medium  1951     1951.5   4134.756   \n",
      "2           4  Afghanistan      2       Medium  1952     1952.5   4174.450   \n",
      "3           4  Afghanistan      2       Medium  1953     1953.5   4218.336   \n",
      "4           4  Afghanistan      2       Medium  1954     1954.5   4266.484   \n",
      "...       ...          ...    ...          ...   ...        ...        ...   \n",
      "280927    716     Zimbabwe    207  Lower 95 PI  2080     2080.5  10576.533   \n",
      "280928    716     Zimbabwe    207  Lower 95 PI  2085     2085.5  10293.349   \n",
      "280929    716     Zimbabwe    207  Lower 95 PI  2090     2090.5   9920.336   \n",
      "280930    716     Zimbabwe    207  Lower 95 PI  2095     2095.5   9503.711   \n",
      "280931    716     Zimbabwe    207  Lower 95 PI  2100     2100.5   9090.075   \n",
      "\n",
      "        PopFemale   PopTotal  PopDensity  \n",
      "0        3652.874   7752.117      11.874  \n",
      "1        3705.395   7840.151      12.009  \n",
      "2        3761.546   7935.996      12.156  \n",
      "3        3821.348   8039.684      12.315  \n",
      "4        3884.832   8151.316      12.486  \n",
      "...           ...        ...         ...  \n",
      "280927  11255.983  21836.893      56.448  \n",
      "280928  11050.875  21355.988      55.205  \n",
      "280929  10767.709  20689.956      53.483  \n",
      "280930  10412.184  19892.080      51.421  \n",
      "280931   9996.105  19061.177      49.273  \n",
      "\n",
      "[280932 rows x 10 columns]\n"
     ]
    }
   ],
   "source": [
    "import pandas as pd\n",
    "df = pd.read_csv('WPP2019_TotalPopulationBySex.csv')\n",
    "print (df)\n",
    "##import a csv file from computer"
   ]
  },
  {
   "cell_type": "code",
   "execution_count": 9,
   "id": "a76eeaeb",
   "metadata": {},
   "outputs": [
    {
     "name": "stdout",
     "output_type": "stream",
     "text": [
      "       Location  VarID Variant  Time  MidPeriod    PopMale  PopFemale  \\\n",
      "0   Afghanistan      2  Medium  1950     1950.5   4099.243   3652.874   \n",
      "1   Afghanistan      2  Medium  1951     1951.5   4134.756   3705.395   \n",
      "2   Afghanistan      2  Medium  1952     1952.5   4174.450   3761.546   \n",
      "3   Afghanistan      2  Medium  1953     1953.5   4218.336   3821.348   \n",
      "4   Afghanistan      2  Medium  1954     1954.5   4266.484   3884.832   \n",
      "..          ...    ...     ...   ...        ...        ...        ...   \n",
      "95  Afghanistan      2  Medium  2045     2045.5  31065.109  29908.999   \n",
      "96  Afghanistan      2  Medium  2046     2046.5  31447.316  30298.803   \n",
      "97  Afghanistan      2  Medium  2047     2047.5  31821.361  30681.797   \n",
      "98  Afghanistan      2  Medium  2048     2048.5  32187.123  31057.897   \n",
      "99  Afghanistan      2  Medium  2049     2049.5  32544.597  31427.085   \n",
      "\n",
      "     PopTotal  PopDensity  \n",
      "0    7752.117      11.874  \n",
      "1    7840.151      12.009  \n",
      "2    7935.996      12.156  \n",
      "3    8039.684      12.315  \n",
      "4    8151.316      12.486  \n",
      "..        ...         ...  \n",
      "95  60974.108      93.395  \n",
      "96  61746.119      94.578  \n",
      "97  62503.158      95.737  \n",
      "98  63245.020      96.874  \n",
      "99  63971.682      97.987  \n",
      "\n",
      "[100 rows x 9 columns]\n"
     ]
    }
   ],
   "source": [
    "  print(df.head(100))\n",
    "## take first 100 data \n",
    "            "
   ]
  },
  {
   "cell_type": "code",
   "execution_count": 10,
   "id": "c1367b56",
   "metadata": {},
   "outputs": [
    {
     "data": {
      "text/html": [
       "<div>\n",
       "<style scoped>\n",
       "    .dataframe tbody tr th:only-of-type {\n",
       "        vertical-align: middle;\n",
       "    }\n",
       "\n",
       "    .dataframe tbody tr th {\n",
       "        vertical-align: top;\n",
       "    }\n",
       "\n",
       "    .dataframe thead th {\n",
       "        text-align: right;\n",
       "    }\n",
       "</style>\n",
       "<table border=\"1\" class=\"dataframe\">\n",
       "  <thead>\n",
       "    <tr style=\"text-align: right;\">\n",
       "      <th></th>\n",
       "      <th>Location</th>\n",
       "      <th>Variant</th>\n",
       "      <th>Time</th>\n",
       "      <th>PopMale</th>\n",
       "      <th>PopFemale</th>\n",
       "      <th>PopTotal</th>\n",
       "      <th>PopDensity</th>\n",
       "    </tr>\n",
       "  </thead>\n",
       "  <tbody>\n",
       "    <tr>\n",
       "      <th>0</th>\n",
       "      <td>Afghanistan</td>\n",
       "      <td>Medium</td>\n",
       "      <td>1950</td>\n",
       "      <td>4099.243</td>\n",
       "      <td>3652.874</td>\n",
       "      <td>7752.117</td>\n",
       "      <td>11.874</td>\n",
       "    </tr>\n",
       "    <tr>\n",
       "      <th>1</th>\n",
       "      <td>Afghanistan</td>\n",
       "      <td>Medium</td>\n",
       "      <td>1951</td>\n",
       "      <td>4134.756</td>\n",
       "      <td>3705.395</td>\n",
       "      <td>7840.151</td>\n",
       "      <td>12.009</td>\n",
       "    </tr>\n",
       "    <tr>\n",
       "      <th>2</th>\n",
       "      <td>Afghanistan</td>\n",
       "      <td>Medium</td>\n",
       "      <td>1952</td>\n",
       "      <td>4174.450</td>\n",
       "      <td>3761.546</td>\n",
       "      <td>7935.996</td>\n",
       "      <td>12.156</td>\n",
       "    </tr>\n",
       "    <tr>\n",
       "      <th>3</th>\n",
       "      <td>Afghanistan</td>\n",
       "      <td>Medium</td>\n",
       "      <td>1953</td>\n",
       "      <td>4218.336</td>\n",
       "      <td>3821.348</td>\n",
       "      <td>8039.684</td>\n",
       "      <td>12.315</td>\n",
       "    </tr>\n",
       "    <tr>\n",
       "      <th>4</th>\n",
       "      <td>Afghanistan</td>\n",
       "      <td>Medium</td>\n",
       "      <td>1954</td>\n",
       "      <td>4266.484</td>\n",
       "      <td>3884.832</td>\n",
       "      <td>8151.316</td>\n",
       "      <td>12.486</td>\n",
       "    </tr>\n",
       "  </tbody>\n",
       "</table>\n",
       "</div>"
      ],
      "text/plain": [
       "      Location Variant  Time   PopMale  PopFemale  PopTotal  PopDensity\n",
       "0  Afghanistan  Medium  1950  4099.243   3652.874  7752.117      11.874\n",
       "1  Afghanistan  Medium  1951  4134.756   3705.395  7840.151      12.009\n",
       "2  Afghanistan  Medium  1952  4174.450   3761.546  7935.996      12.156\n",
       "3  Afghanistan  Medium  1953  4218.336   3821.348  8039.684      12.315\n",
       "4  Afghanistan  Medium  1954  4266.484   3884.832  8151.316      12.486"
      ]
     },
     "execution_count": 10,
     "metadata": {},
     "output_type": "execute_result"
    }
   ],
   "source": [
    "df.drop(['VarID','MidPeriod'], axis=1, inplace=True)\n",
    "df.head()\n",
    "## remove  \"VarID\" and \"MidPeriod\" columns"
   ]
  },
  {
   "cell_type": "code",
   "execution_count": null,
   "id": "79609a52",
   "metadata": {},
   "outputs": [],
   "source": []
  },
  {
   "cell_type": "code",
   "execution_count": null,
   "id": "e1c54326",
   "metadata": {},
   "outputs": [],
   "source": []
  },
  {
   "cell_type": "code",
   "execution_count": null,
   "id": "6877c1ca",
   "metadata": {},
   "outputs": [],
   "source": []
  }
 ],
 "metadata": {
  "kernelspec": {
   "display_name": "Python 3",
   "language": "python",
   "name": "python3"
  },
  "language_info": {
   "codemirror_mode": {
    "name": "ipython",
    "version": 3
   },
   "file_extension": ".py",
   "mimetype": "text/x-python",
   "name": "python",
   "nbconvert_exporter": "python",
   "pygments_lexer": "ipython3",
   "version": "3.8.8"
  }
 },
 "nbformat": 4,
 "nbformat_minor": 5
}
